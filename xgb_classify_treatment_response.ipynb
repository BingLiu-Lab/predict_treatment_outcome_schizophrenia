{
 "cells": [
  {
   "cell_type": "code",
   "execution_count": 1,
   "id": "5010a5e8",
   "metadata": {},
   "outputs": [],
   "source": [
    "import warnings\n",
    "warnings.filterwarnings('ignore')"
   ]
  },
  {
   "cell_type": "code",
   "execution_count": 2,
   "id": "c96426c4",
   "metadata": {},
   "outputs": [],
   "source": [
    "import os\n",
    "import joblib\n",
    "import numpy as np\n",
    "import pandas as pd\n",
    "from sklearn import metrics\n",
    "from sklearn.metrics import confusion_matrix\n",
    "from sklearn.utils.class_weight import compute_sample_weight\n",
    "\n",
    "import xgboost as xgb"
   ]
  },
  {
   "cell_type": "code",
   "execution_count": 3,
   "id": "bee4c992",
   "metadata": {},
   "outputs": [],
   "source": [
    "df = joblib.load('df_predictor_response.joblib')"
   ]
  },
  {
   "cell_type": "code",
   "execution_count": 4,
   "id": "08c2c918",
   "metadata": {},
   "outputs": [
    {
     "data": {
      "text/html": [
       "<div>\n",
       "<style scoped>\n",
       "    .dataframe tbody tr th:only-of-type {\n",
       "        vertical-align: middle;\n",
       "    }\n",
       "\n",
       "    .dataframe tbody tr th {\n",
       "        vertical-align: top;\n",
       "    }\n",
       "\n",
       "    .dataframe thead th {\n",
       "        text-align: right;\n",
       "    }\n",
       "</style>\n",
       "<table border=\"1\" class=\"dataframe\">\n",
       "  <thead>\n",
       "    <tr style=\"text-align: right;\">\n",
       "      <th></th>\n",
       "      <th>gmv_1</th>\n",
       "      <th>gmv_2</th>\n",
       "      <th>gmv_3</th>\n",
       "      <th>gmv_4</th>\n",
       "      <th>gmv_5</th>\n",
       "      <th>gmv_6</th>\n",
       "      <th>gmv_7</th>\n",
       "      <th>gmv_8</th>\n",
       "      <th>gmv_9</th>\n",
       "      <th>gmv_10</th>\n",
       "      <th>...</th>\n",
       "      <th>fc_pca_42</th>\n",
       "      <th>fc_pca_43</th>\n",
       "      <th>fc_pca_44</th>\n",
       "      <th>fc_pca_45</th>\n",
       "      <th>fc_pca_46</th>\n",
       "      <th>fc_pca_47</th>\n",
       "      <th>fc_pca_48</th>\n",
       "      <th>fc_pca_49</th>\n",
       "      <th>fc_pca_50</th>\n",
       "      <th>responder</th>\n",
       "    </tr>\n",
       "  </thead>\n",
       "  <tbody>\n",
       "    <tr>\n",
       "      <th>subj_1</th>\n",
       "      <td>0.567524</td>\n",
       "      <td>0.615216</td>\n",
       "      <td>0.610756</td>\n",
       "      <td>0.714750</td>\n",
       "      <td>0.532017</td>\n",
       "      <td>0.538300</td>\n",
       "      <td>0.621279</td>\n",
       "      <td>0.657148</td>\n",
       "      <td>0.599010</td>\n",
       "      <td>0.613495</td>\n",
       "      <td>...</td>\n",
       "      <td>-0.084168</td>\n",
       "      <td>0.183773</td>\n",
       "      <td>-0.734604</td>\n",
       "      <td>2.745050</td>\n",
       "      <td>0.583210</td>\n",
       "      <td>0.029631</td>\n",
       "      <td>-2.123206</td>\n",
       "      <td>3.374903</td>\n",
       "      <td>-3.654506</td>\n",
       "      <td>1.0</td>\n",
       "    </tr>\n",
       "    <tr>\n",
       "      <th>subj_2</th>\n",
       "      <td>0.564539</td>\n",
       "      <td>0.617759</td>\n",
       "      <td>0.679379</td>\n",
       "      <td>0.608611</td>\n",
       "      <td>0.596662</td>\n",
       "      <td>0.567769</td>\n",
       "      <td>0.816205</td>\n",
       "      <td>0.660637</td>\n",
       "      <td>0.676277</td>\n",
       "      <td>0.609318</td>\n",
       "      <td>...</td>\n",
       "      <td>5.886537</td>\n",
       "      <td>1.196023</td>\n",
       "      <td>-3.081668</td>\n",
       "      <td>-3.239135</td>\n",
       "      <td>2.283227</td>\n",
       "      <td>-4.860814</td>\n",
       "      <td>1.856561</td>\n",
       "      <td>-0.037000</td>\n",
       "      <td>-2.071572</td>\n",
       "      <td>0.0</td>\n",
       "    </tr>\n",
       "    <tr>\n",
       "      <th>subj_3</th>\n",
       "      <td>0.597278</td>\n",
       "      <td>0.663706</td>\n",
       "      <td>0.643271</td>\n",
       "      <td>0.595084</td>\n",
       "      <td>0.567406</td>\n",
       "      <td>0.527736</td>\n",
       "      <td>0.754227</td>\n",
       "      <td>0.593889</td>\n",
       "      <td>0.643579</td>\n",
       "      <td>0.596471</td>\n",
       "      <td>...</td>\n",
       "      <td>-7.685474</td>\n",
       "      <td>-1.708413</td>\n",
       "      <td>-5.985563</td>\n",
       "      <td>7.651689</td>\n",
       "      <td>2.911852</td>\n",
       "      <td>-4.939710</td>\n",
       "      <td>-5.346591</td>\n",
       "      <td>2.766212</td>\n",
       "      <td>3.664858</td>\n",
       "      <td>1.0</td>\n",
       "    </tr>\n",
       "    <tr>\n",
       "      <th>subj_4</th>\n",
       "      <td>0.603452</td>\n",
       "      <td>0.604712</td>\n",
       "      <td>0.726019</td>\n",
       "      <td>0.646666</td>\n",
       "      <td>0.571758</td>\n",
       "      <td>0.586931</td>\n",
       "      <td>0.645590</td>\n",
       "      <td>0.609655</td>\n",
       "      <td>0.590275</td>\n",
       "      <td>0.535053</td>\n",
       "      <td>...</td>\n",
       "      <td>5.257554</td>\n",
       "      <td>-6.626827</td>\n",
       "      <td>1.683651</td>\n",
       "      <td>-0.296066</td>\n",
       "      <td>-4.691328</td>\n",
       "      <td>3.658944</td>\n",
       "      <td>3.403001</td>\n",
       "      <td>2.052774</td>\n",
       "      <td>-1.300202</td>\n",
       "      <td>0.0</td>\n",
       "    </tr>\n",
       "    <tr>\n",
       "      <th>subj_5</th>\n",
       "      <td>0.683891</td>\n",
       "      <td>0.649077</td>\n",
       "      <td>0.655115</td>\n",
       "      <td>0.588122</td>\n",
       "      <td>0.582557</td>\n",
       "      <td>0.576514</td>\n",
       "      <td>0.676339</td>\n",
       "      <td>0.613668</td>\n",
       "      <td>0.716159</td>\n",
       "      <td>0.653681</td>\n",
       "      <td>...</td>\n",
       "      <td>-0.866787</td>\n",
       "      <td>-2.709679</td>\n",
       "      <td>0.204509</td>\n",
       "      <td>2.405831</td>\n",
       "      <td>9.386981</td>\n",
       "      <td>-2.507854</td>\n",
       "      <td>1.345326</td>\n",
       "      <td>-4.242170</td>\n",
       "      <td>6.974500</td>\n",
       "      <td>0.0</td>\n",
       "    </tr>\n",
       "  </tbody>\n",
       "</table>\n",
       "<p>5 rows × 1984 columns</p>\n",
       "</div>"
      ],
      "text/plain": [
       "           gmv_1     gmv_2     gmv_3     gmv_4     gmv_5     gmv_6     gmv_7  \\\n",
       "subj_1  0.567524  0.615216  0.610756  0.714750  0.532017  0.538300  0.621279   \n",
       "subj_2  0.564539  0.617759  0.679379  0.608611  0.596662  0.567769  0.816205   \n",
       "subj_3  0.597278  0.663706  0.643271  0.595084  0.567406  0.527736  0.754227   \n",
       "subj_4  0.603452  0.604712  0.726019  0.646666  0.571758  0.586931  0.645590   \n",
       "subj_5  0.683891  0.649077  0.655115  0.588122  0.582557  0.576514  0.676339   \n",
       "\n",
       "           gmv_8     gmv_9    gmv_10  ...  fc_pca_42  fc_pca_43  fc_pca_44  \\\n",
       "subj_1  0.657148  0.599010  0.613495  ...  -0.084168   0.183773  -0.734604   \n",
       "subj_2  0.660637  0.676277  0.609318  ...   5.886537   1.196023  -3.081668   \n",
       "subj_3  0.593889  0.643579  0.596471  ...  -7.685474  -1.708413  -5.985563   \n",
       "subj_4  0.609655  0.590275  0.535053  ...   5.257554  -6.626827   1.683651   \n",
       "subj_5  0.613668  0.716159  0.653681  ...  -0.866787  -2.709679   0.204509   \n",
       "\n",
       "        fc_pca_45  fc_pca_46  fc_pca_47  fc_pca_48  fc_pca_49  fc_pca_50  \\\n",
       "subj_1   2.745050   0.583210   0.029631  -2.123206   3.374903  -3.654506   \n",
       "subj_2  -3.239135   2.283227  -4.860814   1.856561  -0.037000  -2.071572   \n",
       "subj_3   7.651689   2.911852  -4.939710  -5.346591   2.766212   3.664858   \n",
       "subj_4  -0.296066  -4.691328   3.658944   3.403001   2.052774  -1.300202   \n",
       "subj_5   2.405831   9.386981  -2.507854   1.345326  -4.242170   6.974500   \n",
       "\n",
       "        responder  \n",
       "subj_1        1.0  \n",
       "subj_2        0.0  \n",
       "subj_3        1.0  \n",
       "subj_4        0.0  \n",
       "subj_5        0.0  \n",
       "\n",
       "[5 rows x 1984 columns]"
      ]
     },
     "execution_count": 4,
     "metadata": {},
     "output_type": "execute_result"
    }
   ],
   "source": [
    "df.head()"
   ]
  },
  {
   "cell_type": "code",
   "execution_count": 5,
   "id": "ff268196",
   "metadata": {},
   "outputs": [],
   "source": [
    "##########"
   ]
  },
  {
   "cell_type": "code",
   "execution_count": 6,
   "id": "7b8fac17",
   "metadata": {},
   "outputs": [],
   "source": [
    "x_arr = df[df.columns[:-1]].astype('float').values\n",
    "\n",
    "y_arr = df['responder'].astype('float').values"
   ]
  },
  {
   "cell_type": "code",
   "execution_count": 7,
   "id": "980a7ee4",
   "metadata": {},
   "outputs": [
    {
     "data": {
      "text/plain": [
       "((57, 1983), (57,))"
      ]
     },
     "execution_count": 7,
     "metadata": {},
     "output_type": "execute_result"
    }
   ],
   "source": [
    "x_arr.shape, y_arr.shape"
   ]
  },
  {
   "cell_type": "code",
   "execution_count": 8,
   "id": "a600858c",
   "metadata": {},
   "outputs": [
    {
     "data": {
      "text/plain": [
       "((20,), (37,))"
      ]
     },
     "execution_count": 8,
     "metadata": {},
     "output_type": "execute_result"
    }
   ],
   "source": [
    "np.where(y_arr == 1)[0].shape, np.where(y_arr == 0)[0].shape"
   ]
  },
  {
   "cell_type": "code",
   "execution_count": 9,
   "id": "429fd455",
   "metadata": {},
   "outputs": [],
   "source": [
    "##########"
   ]
  },
  {
   "cell_type": "code",
   "execution_count": 10,
   "id": "3758bb8d",
   "metadata": {},
   "outputs": [],
   "source": [
    "# used when fit xgb model\n",
    "sample_weights = compute_sample_weight(\n",
    "    class_weight='balanced',\n",
    "    y=y_arr\n",
    ")"
   ]
  },
  {
   "cell_type": "code",
   "execution_count": 11,
   "id": "5e3104db",
   "metadata": {},
   "outputs": [],
   "source": [
    "# fine-tuned parameter\n",
    "xgb_parameter = {\n",
    "    'gamma': 0.01, \n",
    "    'subsample': 0.9, \n",
    "    'colsample_bytree': 0.3, \n",
    "    'colsample_bylevel': 0.5, \n",
    "    'colsample_bynode': 0.3, \n",
    "    'booster': 'gbtree', \n",
    "    'reg_alpha': 0.1, \n",
    "    'verbosity': 0, \n",
    "    'scale_pos_weight': 2.5, \n",
    "    'n_estimators': 50, \n",
    "    'max_depth': 2, \n",
    "    'learning_rate': 0.12, \n",
    "    'reg_lambda': 1.65\n",
    "}"
   ]
  },
  {
   "cell_type": "code",
   "execution_count": 12,
   "id": "f469eb4d",
   "metadata": {},
   "outputs": [],
   "source": [
    "##########"
   ]
  },
  {
   "cell_type": "code",
   "execution_count": 13,
   "id": "915d1910",
   "metadata": {},
   "outputs": [],
   "source": [
    "def main_func(xgb_para):\n",
    "    y_true = []\n",
    "    y_pre = []\n",
    "    \n",
    "    for i in range(y_arr.shape[0]):\n",
    "        rows_train = [pos for pos in range(y_arr.shape[0]) if pos != i]\n",
    "        \n",
    "        x_train = x_arr[rows_train]\n",
    "        y_train = y_arr[rows_train]\n",
    "        \n",
    "        w1 = sample_weights[rows_train]\n",
    "        \n",
    "        x_test = x_arr[i]\n",
    "        x_test = x_test.reshape(1, -1)\n",
    "        y_test = y_arr[i]\n",
    "        \n",
    "        xgb_instance = xgb.XGBClassifier(**xgb_para)\n",
    "        xgb_instance.fit(x_train, y_train, sample_weight=w1)\n",
    "        \n",
    "        y_test_pre = xgb_instance.predict(x_test)\n",
    "        y_test_pre = np.squeeze(y_test_pre)\n",
    "        \n",
    "        y_true.append(y_test)\n",
    "        y_pre.append(y_test_pre)\n",
    "    \n",
    "    save_res = {\n",
    "        'y_true': np.array(y_true),\n",
    "        'y_pre': np.array(y_pre)\n",
    "    }\n",
    "    \n",
    "    return save_res"
   ]
  },
  {
   "cell_type": "code",
   "execution_count": 14,
   "id": "27985569",
   "metadata": {},
   "outputs": [],
   "source": [
    "##########"
   ]
  },
  {
   "cell_type": "code",
   "execution_count": 15,
   "id": "d7a303ef",
   "metadata": {},
   "outputs": [],
   "source": [
    "res = main_func(xgb_parameter)\n",
    "y_true = res['y_true']\n",
    "y_pre = res['y_pre']"
   ]
  },
  {
   "cell_type": "code",
   "execution_count": 16,
   "id": "91fbd719",
   "metadata": {},
   "outputs": [
    {
     "name": "stdout",
     "output_type": "stream",
     "text": [
      "0.8596491228070176\n"
     ]
    }
   ],
   "source": [
    "accuracy = metrics.accuracy_score(y_true, y_pre)\n",
    "\n",
    "print(accuracy)"
   ]
  },
  {
   "cell_type": "code",
   "execution_count": 17,
   "id": "2efa301c",
   "metadata": {},
   "outputs": [
    {
     "name": "stdout",
     "output_type": "stream",
     "text": [
      "0.85 0.8648648648648649\n"
     ]
    }
   ],
   "source": [
    "cm = confusion_matrix(y_true, y_pre)\n",
    "\n",
    "tn, fp, fn, tp = cm.ravel()\n",
    "\n",
    "sensitivity = tp / (tp + fn)\n",
    "specificity = tn / (tn + fp)\n",
    "\n",
    "print(sensitivity, specificity)"
   ]
  },
  {
   "cell_type": "code",
   "execution_count": 18,
   "id": "33c7796d",
   "metadata": {},
   "outputs": [
    {
     "name": "stdout",
     "output_type": "stream",
     "text": [
      "0.8095238095238095\n"
     ]
    }
   ],
   "source": [
    "f1_score = metrics.f1_score(y_true, y_pre)\n",
    "\n",
    "print(f1_score)"
   ]
  },
  {
   "cell_type": "code",
   "execution_count": 19,
   "id": "66dc5123",
   "metadata": {},
   "outputs": [
    {
     "name": "stdout",
     "output_type": "stream",
     "text": [
      "0.8574324324324325\n"
     ]
    }
   ],
   "source": [
    "roc_auc = metrics.roc_auc_score(y_true, y_pre)\n",
    "\n",
    "print(roc_auc)"
   ]
  },
  {
   "cell_type": "code",
   "execution_count": null,
   "id": "d3457d4a",
   "metadata": {},
   "outputs": [],
   "source": []
  }
 ],
 "metadata": {
  "kernelspec": {
   "display_name": "Python 3",
   "language": "python",
   "name": "python3"
  },
  "language_info": {
   "codemirror_mode": {
    "name": "ipython",
    "version": 3
   },
   "file_extension": ".py",
   "mimetype": "text/x-python",
   "name": "python",
   "nbconvert_exporter": "python",
   "pygments_lexer": "ipython3",
   "version": "3.7.3"
  }
 },
 "nbformat": 4,
 "nbformat_minor": 5
}
